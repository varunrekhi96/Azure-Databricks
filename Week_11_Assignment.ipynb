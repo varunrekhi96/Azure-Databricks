{
 "cells": [
  {
   "cell_type": "code",
   "execution_count": 0,
   "metadata": {
    "application/vnd.databricks.v1+cell": {
     "cellMetadata": {},
     "inputWidgets": {},
     "nuid": "31792063-62dd-4dc2-bfc2-e909423327f9",
     "showTitle": false,
     "title": ""
    }
   },
   "outputs": [],
   "source": [
    "dbutils.fs.mount(source='wasbs://landing@week11assignment.blob.core.windows.net',\n",
    "mount_point='/mnt/week11assignment/landing',\n",
    "extra_configs={'fs.azure.account.key.week11assignment.blob.core.windows.net':'Xw4FQ3bo780rfAQr/wCs0ynLsL0lq+H2s8NWo8iVv4JSPoXePJD9f3eRnFU9A3Gi5bv143kX5/h++AStOtFPxQ=='})"
   ]
  },
  {
   "cell_type": "code",
   "execution_count": 0,
   "metadata": {
    "application/vnd.databricks.v1+cell": {
     "cellMetadata": {},
     "inputWidgets": {},
     "nuid": "2e7a1086-eb91-4aac-bd87-8e664100b70d",
     "showTitle": false,
     "title": ""
    }
   },
   "outputs": [],
   "source": [
    "dbutils.fs.ls('/mnt/week11assignment/landing')"
   ]
  },
  {
   "cell_type": "code",
   "execution_count": 0,
   "metadata": {
    "application/vnd.databricks.v1+cell": {
     "cellMetadata": {},
     "inputWidgets": {},
     "nuid": "3a694224-95b3-4044-9d39-fe99845a0a75",
     "showTitle": false,
     "title": ""
    }
   },
   "outputs": [],
   "source": [
    "dbutils.fs.mount(source='wasbs://staging@week11assignment.blob.core.windows.net',\n",
    "mount_point='/mnt/week11assignment/staging',\n",
    "extra_configs={'fs.azure.account.key.week11assignment.blob.core.windows.net':'Xw4FQ3bo780rfAQr/wCs0ynLsL0lq+H2s8NWo8iVv4JSPoXePJD9f3eRnFU9A3Gi5bv143kX5/h++AStOtFPxQ=='})"
   ]
  },
  {
   "cell_type": "code",
   "execution_count": 0,
   "metadata": {
    "application/vnd.databricks.v1+cell": {
     "cellMetadata": {},
     "inputWidgets": {},
     "nuid": "f86abd25-b6c7-4801-98db-f2a536eecadc",
     "showTitle": false,
     "title": ""
    }
   },
   "outputs": [],
   "source": [
    "dbutils.fs.mount(source='wasbs://reporting@week11assignment.blob.core.windows.net',\n",
    "mount_point='/mnt/week11assignment/reporting',\n",
    "extra_configs={'fs.azure.account.key.week11assignment.blob.core.windows.net':'Xw4FQ3bo780rfAQr/wCs0ynLsL0lq+H2s8NWo8iVv4JSPoXePJD9f3eRnFU9A3Gi5bv143kX5/h++AStOtFPxQ=='})"
   ]
  },
  {
   "cell_type": "code",
   "execution_count": 0,
   "metadata": {
    "application/vnd.databricks.v1+cell": {
     "cellMetadata": {},
     "inputWidgets": {},
     "nuid": "7636f559-c9d5-446e-8f5e-e6bb314f85e4",
     "showTitle": false,
     "title": ""
    }
   },
   "outputs": [],
   "source": [
    "orders_schema = 'order_id string, order_date date, order_customer_id string, order_status string'\n",
    "\n",
    "orders_df = spark.read.format(\"csv\") \\\n",
    ".schema(orders_schema) \\\n",
    ".load(\"/mnt/week11assignment/landing/orders-230715-163711.csv\")"
   ]
  },
  {
   "cell_type": "code",
   "execution_count": 0,
   "metadata": {
    "application/vnd.databricks.v1+cell": {
     "cellMetadata": {},
     "inputWidgets": {},
     "nuid": "4c3c0679-af9a-4bda-87e5-df0de1455c22",
     "showTitle": false,
     "title": ""
    }
   },
   "outputs": [],
   "source": [
    "display(orders_df)"
   ]
  },
  {
   "cell_type": "code",
   "execution_count": 0,
   "metadata": {
    "application/vnd.databricks.v1+cell": {
     "cellMetadata": {},
     "inputWidgets": {},
     "nuid": "4a62b858-ec56-4227-9032-37e77bdfa69d",
     "showTitle": false,
     "title": ""
    }
   },
   "outputs": [],
   "source": [
    "customers_schema = 'customer_id string, customer_fname string, customer_lname string, customer_email string, customer_password string, customer_street string, customer_city string, customer_state string,customer_zipcode string'\n",
    "\n",
    "customers_df = spark.read.format(\"csv\") \\\n",
    ".schema(customers_schema) \\\n",
    ".load(\"/mnt/week11assignment/landing/customers-230715-163711.csv\")"
   ]
  },
  {
   "cell_type": "code",
   "execution_count": 0,
   "metadata": {
    "application/vnd.databricks.v1+cell": {
     "cellMetadata": {},
     "inputWidgets": {},
     "nuid": "ef48592f-e7e1-48f9-a056-c006d3a09d69",
     "showTitle": false,
     "title": ""
    }
   },
   "outputs": [],
   "source": [
    "display(customers_df)"
   ]
  },
  {
   "cell_type": "code",
   "execution_count": 0,
   "metadata": {
    "application/vnd.databricks.v1+cell": {
     "cellMetadata": {},
     "inputWidgets": {},
     "nuid": "37b62735-b70c-421a-92bc-3e5402939238",
     "showTitle": false,
     "title": ""
    }
   },
   "outputs": [],
   "source": [
    "from pyspark.sql.functions import year, month\n",
    "\n",
    "orders_df = orders_df.withColumn(\"order_year\",year(\"order_date\")).withColumn(\"order_month\", month(\"order_date\"))"
   ]
  },
  {
   "cell_type": "code",
   "execution_count": 0,
   "metadata": {
    "application/vnd.databricks.v1+cell": {
     "cellMetadata": {},
     "inputWidgets": {},
     "nuid": "e98036f2-45a7-4d4c-8e52-8f75b9b9d1f4",
     "showTitle": false,
     "title": ""
    }
   },
   "outputs": [],
   "source": [
    "display(orders_df)"
   ]
  },
  {
   "cell_type": "code",
   "execution_count": 0,
   "metadata": {
    "application/vnd.databricks.v1+cell": {
     "cellMetadata": {},
     "inputWidgets": {},
     "nuid": "05f9ab36-ca46-4326-a8e1-7bef9c28805d",
     "showTitle": false,
     "title": ""
    }
   },
   "outputs": [],
   "source": [
    "orders_df.write\\\n",
    ".format(\"parquet\")\\\n",
    ".mode(\"overwrite\")\\\n",
    ".partitionBy(\"order_year\",\"order_status\")\\\n",
    ".save(\"/mnt/week11assignment/staging/order\")"
   ]
  },
  {
   "cell_type": "code",
   "execution_count": 0,
   "metadata": {
    "application/vnd.databricks.v1+cell": {
     "cellMetadata": {},
     "inputWidgets": {},
     "nuid": "f74caf8a-e26b-47cd-bbc2-46527b3a1b9c",
     "showTitle": false,
     "title": ""
    }
   },
   "outputs": [],
   "source": [
    "customers_df.write\\\n",
    ".format(\"parquet\")\\\n",
    ".mode(\"overwrite\")\\\n",
    ".partitionBy(\"customer_state\")\\\n",
    ".save(\"/mnt/week11assignment/staging/customer\")"
   ]
  },
  {
   "cell_type": "code",
   "execution_count": 0,
   "metadata": {
    "application/vnd.databricks.v1+cell": {
     "cellMetadata": {},
     "inputWidgets": {},
     "nuid": "5460cfbe-43f4-45e4-840e-362df56c376b",
     "showTitle": false,
     "title": ""
    }
   },
   "outputs": [],
   "source": [
    "customers_df_stg = spark.read.format(\"parquet\") \\\n",
    ".option(\"header\",\"true\")\\\n",
    ".load(\"/mnt/week11assignment/staging/customer\")"
   ]
  },
  {
   "cell_type": "code",
   "execution_count": 0,
   "metadata": {
    "application/vnd.databricks.v1+cell": {
     "cellMetadata": {},
     "inputWidgets": {},
     "nuid": "a6d8ce75-6b0c-4c98-a1ef-7646ce0cb640",
     "showTitle": false,
     "title": ""
    }
   },
   "outputs": [],
   "source": [
    "display(customers_df_stg)"
   ]
  },
  {
   "cell_type": "code",
   "execution_count": 0,
   "metadata": {
    "application/vnd.databricks.v1+cell": {
     "cellMetadata": {},
     "inputWidgets": {},
     "nuid": "0d8a5e4d-282b-4bc5-94e0-0bbecd23c4ff",
     "showTitle": false,
     "title": ""
    }
   },
   "outputs": [],
   "source": [
    "orders_df_stg = spark.read.format(\"parquet\") \\\n",
    ".option(\"header\",\"true\")\\\n",
    ".load(\"/mnt/week11assignment/staging/order\")"
   ]
  },
  {
   "cell_type": "code",
   "execution_count": 0,
   "metadata": {
    "application/vnd.databricks.v1+cell": {
     "cellMetadata": {},
     "inputWidgets": {},
     "nuid": "f017bd4b-b424-4d3d-a69e-7837dba7c5d4",
     "showTitle": false,
     "title": ""
    }
   },
   "outputs": [],
   "source": [
    "display(orders_df_stg)"
   ]
  },
  {
   "cell_type": "code",
   "execution_count": 0,
   "metadata": {
    "application/vnd.databricks.v1+cell": {
     "cellMetadata": {},
     "inputWidgets": {},
     "nuid": "bb859be4-1789-4b08-93b2-2211c4a04f7b",
     "showTitle": false,
     "title": ""
    }
   },
   "outputs": [],
   "source": [
    "from pyspark.sql.functions import broadcast, expr\n",
    "\n",
    "joined_df = orders_df_stg.join(broadcast(customers_df_stg), expr(\"order_customer_id=customer_id\"))\n",
    "\n",
    "reporting_df = joined_df.select(\"order_id\",\"order_date\",\"order_customer_id\",\"order_month\",\"order_year\",\"order_status\",\"customer_fname\",\"customer_lname\",\"customer_city\",\"customer_zipcode\",\"customer_state\")"
   ]
  },
  {
   "cell_type": "code",
   "execution_count": 0,
   "metadata": {
    "application/vnd.databricks.v1+cell": {
     "cellMetadata": {},
     "inputWidgets": {},
     "nuid": "c67f89a4-f848-4e8d-a103-f969fb479fc4",
     "showTitle": false,
     "title": ""
    }
   },
   "outputs": [],
   "source": [
    "display(reporting_df)"
   ]
  },
  {
   "cell_type": "code",
   "execution_count": 0,
   "metadata": {
    "application/vnd.databricks.v1+cell": {
     "cellMetadata": {},
     "inputWidgets": {},
     "nuid": "485f13de-03bd-46f5-b42f-d7fb5ce556c7",
     "showTitle": false,
     "title": ""
    }
   },
   "outputs": [],
   "source": [
    "reporting_df.write\\\n",
    ".format(\"parquet\")\\\n",
    ".mode(\"overwrite\")\\\n",
    ".partitionBy(\"order_year\",\"customer_state\",\"customer_city\",\"order_status\")\\\n",
    ".save(\"/mnt/week11assignment/reporting\")"
   ]
  },
  {
   "cell_type": "code",
   "execution_count": 0,
   "metadata": {
    "application/vnd.databricks.v1+cell": {
     "cellMetadata": {},
     "inputWidgets": {},
     "nuid": "4df59149-d225-456a-8376-af844d59aa9a",
     "showTitle": false,
     "title": ""
    }
   },
   "outputs": [],
   "source": [
    "order_cust_rpt = spark.read.format(\"parquet\") \\\n",
    ".option(\"header\",\"true\")\\\n",
    ".load(\"/mnt/week11assignment/reporting\")\n",
    "\n",
    "display(order_cust_rpt)"
   ]
  },
  {
   "cell_type": "code",
   "execution_count": 0,
   "metadata": {
    "application/vnd.databricks.v1+cell": {
     "cellMetadata": {},
     "inputWidgets": {},
     "nuid": "0d7ae919-4bac-44a5-a813-218e48918755",
     "showTitle": false,
     "title": ""
    }
   },
   "outputs": [],
   "source": [
    "order_cust_rpt.select(expr(\"order_customer_id\").alias(\"customer_id\"),expr(\"concat(customer_fname,'',customer_lname)\").alias(\"customer_name\"),\"order_date\",\"customer_city\",\"customer_state\",\"order_status\",\"order_year\",\"order_month\") \\\n",
    ".createOrReplaceTempView(\"order_cust_vw\")"
   ]
  },
  {
   "cell_type": "code",
   "execution_count": 0,
   "metadata": {
    "application/vnd.databricks.v1+cell": {
     "cellMetadata": {},
     "inputWidgets": {},
     "nuid": "c16a3313-82cc-4e91-9b59-dce353435673",
     "showTitle": false,
     "title": ""
    }
   },
   "outputs": [],
   "source": [
    "spark.sql(\"select * from order_cust_vw limit 10\").show()"
   ]
  },
  {
   "cell_type": "code",
   "execution_count": 0,
   "metadata": {
    "application/vnd.databricks.v1+cell": {
     "cellMetadata": {},
     "inputWidgets": {},
     "nuid": "170463ba-5e1b-4f84-a422-1d636dd8d6bc",
     "showTitle": false,
     "title": ""
    }
   },
   "outputs": [],
   "source": [
    "spark.sql(\"cache table order_cust_vw\")"
   ]
  },
  {
   "cell_type": "code",
   "execution_count": 0,
   "metadata": {
    "application/vnd.databricks.v1+cell": {
     "cellMetadata": {},
     "inputWidgets": {},
     "nuid": "742793a7-f3d1-4c4f-a9dc-dcc86a9e0105",
     "showTitle": false,
     "title": ""
    }
   },
   "outputs": [],
   "source": [
    "%sql\n",
    "--Ans 6b - running the required query\n",
    "select distinct customer_name from order_cust_vw where customer_state='TX' AND order_status='COMPLETE' AND order_year='2014'"
   ]
  },
  {
   "cell_type": "code",
   "execution_count": 0,
   "metadata": {
    "application/vnd.databricks.v1+cell": {
     "cellMetadata": {},
     "inputWidgets": {},
     "nuid": "7804c21a-621c-4a3f-8ea0-55635e85f0b8",
     "showTitle": false,
     "title": ""
    }
   },
   "outputs": [],
   "source": [
    "dbutils.widgets.dropdown(name = 'state_input', defaultValue='TX', choices=['TX', 'NY', 'CA'], label= \"State:\")\n",
    "\n",
    "dbutils.widgets.dropdown(name = 'status_input', defaultValue='COMPLETE', choices=['COMPLETE', 'PENDING_PAYMENT', 'CLOSED', 'PROCESSING'],label= \"Status:\")\n",
    "\n",
    "dbutils.widgets.text(name = 'year_input', defaultValue= \"2014\", label= \"Year:\")"
   ]
  },
  {
   "cell_type": "code",
   "execution_count": 0,
   "metadata": {
    "application/vnd.databricks.v1+cell": {
     "cellMetadata": {},
     "inputWidgets": {},
     "nuid": "29bd533f-f28f-4871-a4ae-6b58815ce521",
     "showTitle": false,
     "title": ""
    }
   },
   "outputs": [],
   "source": [
    "state = dbutils.widgets.get('state_input')\n",
    "status = dbutils.widgets.get('status_input')\n",
    "year = dbutils.widgets.get('year_input')"
   ]
  },
  {
   "cell_type": "code",
   "execution_count": 0,
   "metadata": {
    "application/vnd.databricks.v1+cell": {
     "cellMetadata": {},
     "inputWidgets": {},
     "nuid": "52da6044-e63c-4928-a40d-5228dd140ce6",
     "showTitle": false,
     "title": ""
    }
   },
   "outputs": [],
   "source": [
    "display(spark.sql(f\"SELECT distinct customer_name FROM order_cust_vw WHERE customer_state = '{state}' AND order_status = '{status}' AND order_year = '{year}'\"))"
   ]
  },
  {
   "cell_type": "code",
   "execution_count": 0,
   "metadata": {
    "application/vnd.databricks.v1+cell": {
     "cellMetadata": {},
     "inputWidgets": {},
     "nuid": "27fbe695-c58f-4556-88e5-1bb2a39fccda",
     "showTitle": false,
     "title": ""
    }
   },
   "outputs": [],
   "source": [
    "dbutils.widgets.dropdown(\"month_input\", \"1\", [\"1\", \"2\", \"3\", \"4\", \"5\", \"6\", \"7\", \"8\", \"9\", \"10\", \"11\", \"12\"], \"Month:\")\n",
    "\n",
    "month = dbutils.widgets.get(\"month_input\")"
   ]
  },
  {
   "cell_type": "code",
   "execution_count": 0,
   "metadata": {
    "application/vnd.databricks.v1+cell": {
     "cellMetadata": {},
     "inputWidgets": {},
     "nuid": "535961ff-7e42-4107-91aa-02611ff6effd",
     "showTitle": false,
     "title": ""
    }
   },
   "outputs": [],
   "source": [
    "display(spark.sql(f\"SELECT count(customer_id) FROM order_cust_vw WHERE customer_state = '{state}' AND order_status = '{status}' AND order_year = '{year}' AND order_month = '{month}'\"))"
   ]
  }
 ],
 "metadata": {
  "application/vnd.databricks.v1+notebook": {
   "dashboards": [],
   "language": "python",
   "notebookMetadata": {
    "pythonIndentUnit": 4
   },
   "notebookName": "Week_11_Assignment",
   "widgets": {}
  }
 },
 "nbformat": 4,
 "nbformat_minor": 0
}
